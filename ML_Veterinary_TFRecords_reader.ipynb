{
 "cells": [
  {
   "cell_type": "code",
   "execution_count": null,
   "metadata": {},
   "outputs": [],
   "source": [
    "import os  # used for directory operations\n",
    "import tensorflow as tf\n",
    "from PIL import Image  # used to read images from directory\n",
    "import numpy as np\n",
    "import matplotlib.pyplot as plt\n"
   ]
  },
  {
   "cell_type": "code",
   "execution_count": null,
   "metadata": {},
   "outputs": [],
   "source": [
    "# path to record files\n",
    "cwd = Path('..')\n",
    "# path to folder to save tfrecords\n",
    "recordPath = Path('..')"
   ]
  },
  {
   "cell_type": "code",
   "execution_count": null,
   "metadata": {},
   "outputs": [],
   "source": [
    "## functions creating features of certain types required to write a tfrecord\n",
    "def _bytes_feature(value):\n",
    "    \"\"\"Returns a bytes_list from a string / byte.\"\"\"\n",
    "    # If the value is an eager tensor BytesList won't unpack a string from an EagerTensor.\n",
    "    if isinstance(value, type(tf.constant(0))):\n",
    "        value = value.numpy() \n",
    "    return tf.train.Feature(bytes_list=tf.train.BytesList(value=[value]))\n",
    "\n",
    "def _float_feature(value):\n",
    "    \"\"\"Returns a float_list from a float / double.\"\"\"\n",
    "    return tf.train.Feature(float_list=tf.train.FloatList(value=[value]))\n",
    "\n",
    "def _int64_feature(value):\n",
    "    \"\"\"Returns an int64_list from a bool / enum / int / uint.\"\"\"\n",
    "    return tf.train.Feature(int64_list=tf.train.Int64List(value=[value]))"
   ]
  },
  {
   "cell_type": "code",
   "execution_count": null,
   "metadata": {},
   "outputs": [],
   "source": [
    "AUTOTUNE = tf.data.AUTOTUNE\n",
    "BATCH_SIZE = 64\n",
    "IMAGE_SIZE = [224, 224]"
   ]
  },
  {
   "cell_type": "code",
   "execution_count": null,
   "metadata": {},
   "outputs": [],
   "source": [
    "keys = []\n",
    "values = []\n",
    "for folder in os.listdir(cwd):\n",
    "    keys.append(folder)\n",
    "for i in range(0,len(keys)):\n",
    "    values.append(i)\n",
    "classes = dict(zip(keys, values))"
   ]
  },
  {
   "cell_type": "code",
   "execution_count": null,
   "metadata": {},
   "outputs": [],
   "source": [
    "print(classes)"
   ]
  },
  {
   "cell_type": "code",
   "execution_count": null,
   "metadata": {},
   "outputs": [],
   "source": [
    "filenames = os.listdir(recordPath)\n",
    "for i in  range(len(filenames)):\n",
    "    filenames[i] = recordPath + filenames[i]\n",
    "print(filenames)"
   ]
  },
  {
   "cell_type": "code",
   "execution_count": null,
   "metadata": {},
   "outputs": [],
   "source": [
    "feature_description = {\n",
    "    'image': tf.io.FixedLenFeature((), tf.string),\n",
    "    'label': tf.io.FixedLenFeature((), tf.int64),\n",
    "    'height': tf.io.FixedLenFeature((), tf.int64),\n",
    "    'width': tf.io.FixedLenFeature((), tf.int64),\n",
    "    'depth': tf.io.FixedLenFeature((), tf.int64)\n",
    "}\n",
    "def _parse_image_function(example_proto):\n",
    "  # Parse the input tf.train.Example proto using the dictionary above.\n",
    "  return tf.io.parse_single_example(example_proto, feature_description)"
   ]
  },
  {
   "cell_type": "code",
   "execution_count": null,
   "metadata": {},
   "outputs": [],
   "source": [
    "def read_records(filename,num_pics,num_records):\n",
    "  ## num_pics - pictures to read from single records\n",
    "  ## num_records - number of records to read from dir (if more than one)\n",
    "  for n, record in enumerate(filename):\n",
    "    tfrecord_dataset = tf.data.TFRecordDataset(record)\n",
    "    parsed_image_dataset = tfrecord_dataset.map(_parse_image_function)\n",
    "    if n == num_records:\n",
    "      break\n",
    "    for i,image_features in enumerate(parsed_image_dataset):\n",
    "        if i == num_pics:\n",
    "          break\n",
    "        img_raw = tf.io.parse_tensor(image_features['image'],tf.uint8)\n",
    "        label = image_features['label'].numpy()\n",
    "        image_shape = [image_features['height'].numpy(), image_features['width'].numpy(), image_features['depth'].numpy()]\n",
    "        image = tf.reshape(img_raw, image_shape)\n",
    "        image = image.numpy()\n",
    "  \n",
    "        print(image.shape)\n",
    "        plt.imshow(image)\n",
    "        plt.title(list(classes.keys())[list(classes.values()).index(label)])\n",
    "        plt.show()\n",
    "       \n",
    "    \n"
   ]
  },
  {
   "cell_type": "code",
   "execution_count": null,
   "metadata": {},
   "outputs": [],
   "source": [
    "read_records(filenames,5,7)"
   ]
  }
 ],
 "metadata": {
  "interpreter": {
   "hash": "fd29a1856f6ae0a6b1ff5c30d8a911920bc57064f70096439f4d93b631d26313"
  },
  "kernelspec": {
   "display_name": "Python 3.8.11 64-bit ('kodeiri': venv)",
   "language": "python",
   "name": "python3"
  },
  "language_info": {
   "codemirror_mode": {
    "name": "ipython",
    "version": 3
   },
   "file_extension": ".py",
   "mimetype": "text/x-python",
   "name": "python",
   "nbconvert_exporter": "python",
   "pygments_lexer": "ipython3",
   "version": "3.8.11"
  },
  "orig_nbformat": 4
 },
 "nbformat": 4,
 "nbformat_minor": 2
}
