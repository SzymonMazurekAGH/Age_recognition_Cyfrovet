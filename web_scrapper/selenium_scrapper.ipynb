{
 "cells": [
  {
   "cell_type": "code",
   "execution_count": null,
   "metadata": {},
   "outputs": [],
   "source": [
    "\"\"\"Scrapper to download dog photos by age category from Petfinder.com\n",
    "Note that the website is being modified and therefore some modifications can be requred.\"\"\""
   ]
  },
  {
   "cell_type": "code",
   "execution_count": null,
   "metadata": {},
   "outputs": [],
   "source": [
    "import os\n",
    "import datetime\n",
    "import time\n",
    "import pandas as pd\n",
    "from selenium import webdriver\n",
    "from selenium.webdriver.common.keys import Keys\n",
    "from selenium.webdriver.support.select import Select\n",
    "from selenium.webdriver.common.by import By\n",
    "from urllib import request\n",
    "from pathlib import Path"
   ]
  },
  {
   "cell_type": "code",
   "execution_count": null,
   "metadata": {},
   "outputs": [],
   "source": [
    "DRIVER_PATH = Path(r\"web_scrapper\\chromedriver.exe\")"
   ]
  },
  {
   "cell_type": "code",
   "execution_count": null,
   "metadata": {},
   "outputs": [],
   "source": [
    "driver = webdriver.Chrome(DRIVER_PATH)"
   ]
  },
  {
   "cell_type": "code",
   "execution_count": null,
   "metadata": {},
   "outputs": [],
   "source": [
    "driver.get('https://www.petfinder.com/')"
   ]
  },
  {
   "cell_type": "code",
   "execution_count": null,
   "metadata": {},
   "outputs": [],
   "source": [
    "driver.find_element_by_css_selector('.findAPetMenu-button_dogs').click()"
   ]
  },
  {
   "cell_type": "code",
   "execution_count": null,
   "metadata": {},
   "outputs": [],
   "source": [
    "## selecting searched aera (Anywhere for loading whole Petfinder datset)\n",
    "select_element = driver.find_element(by = By.TAG_NAME,value = 'select')\n",
    "select_object = Select(select_element)\n",
    "select_object.select_by_value('Anywhere')\n",
    "driver.find_element(by=By.TAG_NAME, value = 'button').click()"
   ]
  },
  {
   "cell_type": "code",
   "execution_count": null,
   "metadata": {},
   "outputs": [],
   "source": [
    "age1 =  'Adult'\n",
    "age2 = 'Senior'\n",
    "age3 = 'Young'\n",
    "loc = f'//div[contains(text(),\"{age1}\")]'"
   ]
  },
  {
   "cell_type": "code",
   "execution_count": null,
   "metadata": {},
   "outputs": [],
   "source": [
    "## selecting dog's age category. To change from young please change the name in finding element by XPATH to Adult or Senior\n",
    "driver.find_element(by=By.CSS_SELECTOR, value = '#age-select_List_Box_Btn').click()\n",
    "time.sleep(7)\n",
    "driver.find_element(by=By.XPATH, value = f'//div[contains(text(),\"Young\")]').click()\n",
    "time.sleep(1)\n",
    "driver.find_element(by=By.CSS_SELECTOR, value = '#age-select_List_Box_Btn').click()\n"
   ]
  },
  {
   "cell_type": "code",
   "execution_count": null,
   "metadata": {},
   "outputs": [],
   "source": [
    "CATEGORIES = ['Puppy','Young','Adult', 'Senior']\n",
    "# 'Puppy','Young','Adult',\n",
    "PATH = str(r'A:\\Downloaded_imgs') ##specify where you want to save the files\n"
   ]
  },
  {
   "cell_type": "code",
   "execution_count": null,
   "metadata": {},
   "outputs": [],
   "source": [
    "def calculate_end_page():\n",
    "    item = driver.find_element(by=By.XPATH, value = f\"//div[@id='page-select_List_Box_Btn']\")\n",
    "    text = (item.text)\n",
    "    text = text.removeprefix('PAGE ')\n",
    "    num, denum =  text.split('/')\n",
    "    num = int(num)\n",
    "    denum = int(denum)\n",
    "    check_val = num/denum\n",
    "    print (check_val)\n",
    "    return check_val"
   ]
  },
  {
   "cell_type": "code",
   "execution_count": null,
   "metadata": {},
   "outputs": [],
   "source": [
    "for category in CATEGORIES:\n",
    "    filepath = os.path.join(PATH,category)\n",
    "    check = True\n",
    "    driver = webdriver.Chrome(DRIVER_PATH)\n",
    "    driver.get('https://www.petfinder.com/')\n",
    "    time.sleep(5)\n",
    "    driver.find_element_by_css_selector('.findAPetMenu-button_dogs').click()\n",
    "    time.sleep(5)\n",
    "    ## selecting searched aera (Anywhere for loading whole Petfinder datset)\n",
    "    select_element = driver.find_element(by = By.TAG_NAME,value = 'select')\n",
    "    select_object = Select(select_element)\n",
    "    select_object.select_by_value('Anywhere')\n",
    "    driver.find_element(by=By.TAG_NAME, value = 'button').click()\n",
    "    ## selecting dog's age category\n",
    "    time.sleep(5)\n",
    "    driver.execute_script(\"window.scroll(0, 0);\")\n",
    "    driver.find_element(by=By.CSS_SELECTOR, value = '#age-select_List_Box_Btn').click()\n",
    "    time.sleep(5)\n",
    "    driver.find_element(by=By.XPATH, value = f'//div[contains(text(),\"{category}\")]').click()\n",
    "    time.sleep(3)\n",
    "    driver.find_element(by=By.CSS_SELECTOR, value = '#age-select_List_Box_Btn').click()\n",
    "    all_elements = []\n",
    "    ## slowly scroll to the end of page - let the imgs load\n",
    "    while True:\n",
    "        total_height = int(driver.execute_script(\"return document.body.scrollHeight\"))\n",
    "        for i in range(1, total_height, 5):\n",
    "            driver.execute_script(\"window.scrollTo(0, {});\".format(i))\n",
    "        ## get photos from the page and urls\n",
    "        temp_elements = []\n",
    "        page_elements = driver.find_elements(by=By.CLASS_NAME, value = 'petCard-media-img')\n",
    "        for imgs in page_elements:\n",
    "            url = (imgs.get_attribute('src'))\n",
    "            all_elements.append(url)\n",
    "            temp_elements.append(url)\n",
    "            #else:\n",
    "        ## download the urls\n",
    "        for url in temp_elements:\n",
    "            date_name = datetime.datetime.now().strftime(\"%y%m%d_%H%M%S%f\")\n",
    "            temp_name = os.path.join(filepath,date_name)\n",
    "            temp_name = temp_name + str('.png')\n",
    "            try:\n",
    "                request.urlretrieve(url,temp_name)\n",
    "            except:\n",
    "                print(\"Cannot download image from URL. Unsupported media type\")\n",
    "        item = driver.find_element(by=By.XPATH, value = f\"//div[@id='page-select_List_Box_Btn']\")\n",
    "        text = (item.text)\n",
    "        print(text)\n",
    "        text = text.removeprefix('PAGE ')\n",
    "        num, denum =  text.split('/')\n",
    "        num = int(num)\n",
    "        denum = int(denum)\n",
    "        check_val = num/denum\n",
    "        print (check_val)\n",
    "        temp_elements = []\n",
    "        if check_val >= 1.0:\n",
    "            print(f\"Reached last page for {category} category. Closing browser.\")\n",
    "            driver.close()\n",
    "            break\n",
    "        else:\n",
    "            driver.find_element(by=By.XPATH, value = '//body/pf-app[1]/div[4]/div[1]/div[1]/div[2]/pfdc-animal-search[1]/div[1]/div[1]/div[2]/div[2]/div[2]/pfdc-element[2]/div[1]/div[1]/div[2]/pfdc-page-controls[1]/div[1]/div[3]/button[1]').click()\n"
   ]
  },
  {
   "cell_type": "code",
   "execution_count": null,
   "metadata": {},
   "outputs": [],
   "source": [
    "from collections import Counter\n",
    "src = r\"A:\\Downloaded_imgs\" #path to downloaded photos\n",
    "\n",
    "def file_hash(filepath):\n",
    "    \"\"\"Read hash of given file\"\"\"\n",
    "    with open(filepath, 'rb') as f:\n",
    "        return hashlib.md5(f.read()).hexdigest()\n",
    "\n",
    "#iterate over downloaded photos and remove reocurrences\n",
    "for folder in os.listdir(src):\n",
    "    folderpath = os.path.join(src,folder)\n",
    "    hash_list = []\n",
    "    for filename in os.listdir(folderpath):\n",
    "        \n",
    "        temp_path = os.path.join(src,filename)\n",
    "        temp_hash = file_hash(temp_path)\n",
    "        if (hash_list.count(temp_hash) != 0):\n",
    "            print(\"Reocurrence! Removing!\")\n",
    "        else:\n",
    "            hash_list.append(temp_hash)\n",
    "    print(len(Counter(hash_list)))"
   ]
  }
 ],
 "metadata": {
  "interpreter": {
   "hash": "7879c1c151d78fde5f5eca3fc3b57b0375cd0543e2f2e807b8751dcc4bca8ce3"
  },
  "kernelspec": {
   "display_name": "Python 3.9.7 ('base')",
   "language": "python",
   "name": "python3"
  },
  "language_info": {
   "codemirror_mode": {
    "name": "ipython",
    "version": 3
   },
   "file_extension": ".py",
   "mimetype": "text/x-python",
   "name": "python",
   "nbconvert_exporter": "python",
   "pygments_lexer": "ipython3",
   "version": "3.9.7"
  },
  "orig_nbformat": 4
 },
 "nbformat": 4,
 "nbformat_minor": 2
}
