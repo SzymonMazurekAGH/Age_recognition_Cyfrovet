{
 "cells": [
  {
   "cell_type": "code",
   "execution_count": 128,
   "metadata": {},
   "outputs": [],
   "source": [
    "import random\n",
    "from random import shuffle\n",
    "import numpy as np\n",
    "import tensorflow as tf\n",
    "from tensorflow import keras\n",
    "from keras import layers\n",
    "import tensorflow_addons as tfa\n",
    "import os\n",
    "from transformers import TFViTModel, ViTConfig, ViTFeatureExtractor\n",
    "from pathlib import Path\n",
    "tf.keras.backend.set_image_data_format('channels_first')\n",
    "import pygad\n",
    "import cv2\n",
    "import pygad.kerasga\n",
    "from matplotlib import pyplot as plt"
   ]
  },
  {
   "cell_type": "code",
   "execution_count": null,
   "metadata": {},
   "outputs": [],
   "source": [
    "DIRPATH = 'A:\\ML_project\\dogs_datasets\\Experts_train_eval'\n",
    "SAVEPATH = 'A:\\ML_project\\Code\\Valid_code\\Numpy_datasets\\Expert'"
   ]
  },
  {
   "cell_type": "code",
   "execution_count": 139,
   "metadata": {},
   "outputs": [
    {
     "name": "stdout",
     "output_type": "stream",
     "text": [
      "['Adult', 'Senior', 'Young']\n"
     ]
    }
   ],
   "source": [
    "IMG_SIZE =100\n",
    "\n",
    "cat = os.listdir(DIRPATH)\n",
    "CATEGORIES = sorted(cat)\n",
    "print(CATEGORIES)\n",
    "def createTrainingData(path_test):\n",
    "    labels = []\n",
    "    imgs_array = np.empty((0,100,100,3))\n",
    "    for folder in os.listdir(path_test):\n",
    "        class_num  = CATEGORIES.index(folder)\n",
    "        path = os.path.join(path_test,folder)\n",
    "        for img in os.listdir(path):\n",
    "            img_array = cv2.imread(os.path.join(path,img))\n",
    "            imgs = cv2.cvtColor(img_array,cv2.COLOR_BGR2RGB)\n",
    "            imgs = cv2.resize(imgs, (IMG_SIZE, IMG_SIZE))\n",
    "            imgs = imgs.astype('float')\n",
    "            imgs = np.expand_dims(imgs, axis=0)\n",
    "            labels.append(class_num)\n",
    "            imgs_array = np.append(imgs_array,imgs,axis=0)\n",
    "            #imgs_array = np.stack((imgs_array,imgs))\n",
    "\n",
    "    return imgs_array,labels\n",
    "\n",
    "\n"
   ]
  },
  {
   "cell_type": "code",
   "execution_count": 140,
   "metadata": {},
   "outputs": [],
   "source": [
    "images, labels = createTrainingData(DIRPATH)\n",
    "labels = np.array(labels)\n",
    "data_inputs = images"
   ]
  },
  {
   "cell_type": "code",
   "execution_count": 146,
   "metadata": {},
   "outputs": [],
   "source": [
    "np.save(r\"A:\\ML_project\\Code\\Valid_code\\Numpy_datasets\\Expert_dataset\\Images.npy\", images)"
   ]
  },
  {
   "cell_type": "code",
   "execution_count": 150,
   "metadata": {},
   "outputs": [],
   "source": [
    "np.save(r\"A:\\ML_project\\Code\\Valid_code\\Numpy_datasets\\Expert_dataset\\Labels.npy\", labels)"
   ]
  },
  {
   "cell_type": "code",
   "execution_count": null,
   "metadata": {},
   "outputs": [],
   "source": [
    "early_stop = tf.keras.callbacks.EarlyStopping(\n",
    "    monitor=\"val_loss\",\n",
    "    patience=10,\n",
    "    mode=\"min\",\n",
    "    restore_best_weights=True,\n",
    ")"
   ]
  },
  {
   "cell_type": "code",
   "execution_count": null,
   "metadata": {},
   "outputs": [],
   "source": [
    "def fitness_func(solution, sol_idx):\n",
    "    global data_inputs,labels, model, INIT_WEIGHTS,solution_dict\n",
    "    print(solution)\n",
    "    model.set_weights(INIT_WEIGHTS)\n",
    "    model.compile(optimizer=tf.keras.optimizers.Adam(learning_rate=1e-3),\n",
    "              loss=tf.keras.losses.SparseCategoricalCrossentropy(),\n",
    "              metrics=[tf.keras.metrics.SparseCategoricalAccuracy()])\n",
    "    model.fit(\n",
    "        x=data_inputs[solution],\n",
    "        y=labels[solution],\n",
    "        verbose = 1,\n",
    "        validation_split = 0.1,\n",
    "        batch_size = 8,\n",
    "        epochs = 2,\n",
    "        callbacks = [early_stop]\n",
    "    )\n",
    "    predictions = model.predict(data_inputs[solution])\n",
    "    predictions = np.argmax(predictions,axis=1)\n",
    "    accuracy =  tf.keras.metrics.Accuracy()\n",
    "    accuracy.update_state(labels[solution],predictions)\n",
    "    solution_fitness = accuracy.result().numpy()\n",
    "    print(solution_fitness)\n",
    "\n",
    "\n",
    "    return solution_fitness"
   ]
  },
  {
   "cell_type": "code",
   "execution_count": null,
   "metadata": {},
   "outputs": [],
   "source": [
    "\n",
    "\n",
    "\n",
    "# Build the keras model using the functional API.\n",
    "model=tf.keras.Sequential()\n",
    "\n",
    "model.add(layers.Conv2D(64,(7,7),activation='selu',input_shape=(100,100,3), padding=\"same\"))\n",
    "model.add(layers.Conv2D(64,(7,7),activation=tf.nn.leaky_relu,padding=\"same\"))\n",
    "\n",
    "model.add(layers.BatchNormalization())\n",
    "model.add(layers.Dropout(0.2))\n",
    "\n",
    "model.add(layers.Conv2D(64,(5,5),activation='selu',padding=\"same\"))\n",
    "model.add(layers.Conv2D(64,(5,5),activation=tf.nn.leaky_relu,padding=\"same\"))\n",
    "model.add(layers.MaxPool2D(pool_size=(2,2)))\n",
    "\n",
    "model.add(layers.BatchNormalization())\n",
    "model.add(layers.Dropout(0.2))\n",
    "\n",
    "model.add(layers.Flatten())\n",
    "\n",
    "model.add(layers.Dense(10, activation='selu'))\n",
    "model.add(layers.Dropout(0.2))\n",
    "model.add(layers.Dense(3, activation=\"softmax\"))\n",
    "\n",
    "INIT_WEIGHTS = model.get_weights()"
   ]
  },
  {
   "cell_type": "code",
   "execution_count": null,
   "metadata": {},
   "outputs": [],
   "source": [
    "# Prepare the PyGAD parameters. Check the documentation for more information: https://pygad.readthedocs.io/en/latest/README_pygad_ReadTheDocs.html#pygad-ga-class\n",
    "num_generations = 200 # Number of generations.\n",
    "num_parents_mating = 5 # Number of solutions to be selected as parents in the mating pool.\n",
    "\n",
    "\n",
    "# Create an instance of the pygad.GA class\n",
    "ga_instance = pygad.GA(num_generations=num_generations,\n",
    "                       num_parents_mating=num_parents_mating,\n",
    "                       sol_per_pop =5,\n",
    "                       num_genes = 100,\n",
    "                       init_range_low=0,\n",
    "                       gene_type=int,\n",
    "                       init_range_high=len(data_inputs)-1,\n",
    "                       fitness_func=fitness_func)\n",
    "\n",
    "# Start the genetic algorithm evolution.\n",
    "ga_instance.run()"
   ]
  },
  {
   "cell_type": "code",
   "execution_count": 119,
   "metadata": {},
   "outputs": [
    {
     "data": {
      "image/png": "[encoded data removed]",
      "text/plain": [
       "<Figure size 432x288 with 1 Axes>"
      ]
     },
     "metadata": {
      "needs_background": "light"
     },
     "output_type": "display_data"
    },
    {
     "data": {
      "image/png": "[encoded data removed]",
      "text/plain": [
       "<Figure size 432x288 with 1 Axes>"
      ]
     },
     "execution_count": 119,
     "metadata": {},
     "output_type": "execute_result"
    }
   ],
   "source": [
    "ga_instance.plot_fitness()"
   ]
  }
 ],
 "metadata": {
  "interpreter": {
   "hash": "a82f82f49d2f44cd9ddcc692727d31aba462bb93dd1b9b3e6be3f881b6801071"
  },
  "kernelspec": {
   "display_name": "Python 3.9.12 ('CyfroML')",
   "language": "python",
   "name": "python3"
  },
  "language_info": {
   "codemirror_mode": {
    "name": "ipython",
    "version": 3
   },
   "file_extension": ".py",
   "mimetype": "text/x-python",
   "name": "python",
   "nbconvert_exporter": "python",
   "pygments_lexer": "ipython3",
   "version": "3.9.12"
  },
  "orig_nbformat": 4
 },
 "nbformat": 4,
 "nbformat_minor": 2
}
