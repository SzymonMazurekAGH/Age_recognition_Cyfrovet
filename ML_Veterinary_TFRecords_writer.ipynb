{
 "cells": [
  {
   "cell_type": "code",
   "execution_count": null,
   "metadata": {},
   "outputs": [],
   "source": [
    "import os  # used for directory operations\n",
    "import tensorflow as tf\n",
    "from PIL import Image  # used to read images from directory\n",
    "import numpy as np\n",
    "import matplotlib.pyplot as plt\n",
    "from pathlib import Path"
   ]
  },
  {
   "cell_type": "code",
   "execution_count": null,
   "metadata": {},
   "outputs": [],
   "source": [
    "\n",
    "# path to record files\n",
    "cwd = Path('..')\n",
    "# path to folder to save tfrecords\n",
    "recordPath = Path('..')\n",
    "count =  0\n",
    "# number of pictures included in single record\n",
    "# There should be 10 times as many files as there will be hosts processing the data\n",
    "# The files should be 100 MB + size to fully use prefetch benefits\n",
    "bestNum = 1000\n",
    "# the index of images flowing into each tfrecord file\n",
    "num = 0\n",
    "# the index of the tfrecord file\n",
    "recordFileNum = 0\n",
    "# dictionary with labels encoded as numbers\n",
    "keys = []\n",
    "values = []\n",
    "for folder in os.listdir(cwd):\n",
    "    keys.append(folder)\n",
    "keys = sorted(keys)\n",
    "for i in range(0,len(keys)):\n",
    "    values.append(i)\n",
    "classes = dict(zip(keys, values))\n",
    "# # name format of the tfrecord files\n",
    "# recordFileName = 'dataset.tfrecords'\n",
    "writer = tf.io.TFRecordWriter(recordPath + str(recordFileNum))"
   ]
  },
  {
   "cell_type": "code",
   "execution_count": null,
   "metadata": {},
   "outputs": [],
   "source": [
    "print(classes)\n",
    "print(keys)"
   ]
  },
  {
   "cell_type": "code",
   "execution_count": null,
   "metadata": {},
   "outputs": [],
   "source": [
    "## functions creating features of certain types required to write a tfrecord\n",
    "def _bytes_feature(value):\n",
    "    \"\"\"Returns a bytes_list from a string / byte.\"\"\"\n",
    "    # If the value is an eager tensor BytesList won't unpack a string from an EagerTensor.\n",
    "    if isinstance(value, type(tf.constant(0))):\n",
    "        value = value.numpy() \n",
    "    return tf.train.Feature(bytes_list=tf.train.BytesList(value=[value]))\n",
    "\n",
    "def _float_feature(value):\n",
    "    \"\"\"Returns a float_list from a float / double.\"\"\"\n",
    "    return tf.train.Feature(float_list=tf.train.FloatList(value=[value]))\n",
    "\n",
    "def _int64_feature(value):\n",
    "    \"\"\"Returns an int64_list from a bool / enum / int / uint.\"\"\"\n",
    "    return tf.train.Feature(int64_list=tf.train.Int64List(value=[value]))"
   ]
  },
  {
   "cell_type": "code",
   "execution_count": null,
   "metadata": {},
   "outputs": [],
   "source": [
    "def serialize_example(image, label, image_shape):\n",
    "    feature = {\n",
    "        'image': _bytes_feature(image),\n",
    "        'label': _int64_feature(label),\n",
    "        'height': _int64_feature(image_shape[0]),\n",
    "        'width': _int64_feature(image_shape[1]),\n",
    "        'depth': _int64_feature(image_shape[2]),\n",
    "    }\n",
    "#  Create a Features message using tf.train.Example.\n",
    "    example_proto = tf.train.Example(features=tf.train.Features(feature=feature))\n",
    "    return example_proto.SerializeToString()"
   ]
  },
  {
   "cell_type": "code",
   "execution_count": null,
   "metadata": {},
   "outputs": [],
   "source": [
    "for name, label in classes.items():\n",
    "    class_path = os.path.join(cwd, name)\n",
    "    for img_name in os.listdir(class_path):\n",
    "        num += 1\n",
    "        if num > bestNum:\n",
    "            num = 1\n",
    "            recordFileNum += 1\n",
    "            writer = tf.io.TFRecordWriter(recordPath + str(recordFileNum)+str(name))\n",
    "        print(\"Creating the %.3d tfrecord file\" % recordFileNum)\n",
    "        img_path = os.path.join(class_path, img_name)\n",
    "        img = tf.keras.preprocessing.image.load_img(img_path)\n",
    "        img = tf.image.resize(img,[100,100]) ## load image\n",
    "        img_array = tf.keras.preprocessing.image.img_to_array(img) ## convert to array\n",
    "        img_array = img_array.astype(np.float32) ## convert values to float\n",
    "        img_raw = tf.io.serialize_tensor(img_array) ## serialize tensor into string of bytes\n",
    "        img_shape = img_array.shape ## recover shape of image\n",
    "        example = serialize_example(img_raw, label, img_shape) ## use defined function\n",
    "        ## to serailize example and prepare it for writing to tfrecord\n",
    "        writer.write(example)\n",
    "writer.close()\n",
    "print(\"Creating dataset finished.\")"
   ]
  }
 ],
 "metadata": {
  "interpreter": {
   "hash": "fd29a1856f6ae0a6b1ff5c30d8a911920bc57064f70096439f4d93b631d26313"
  },
  "kernelspec": {
   "display_name": "Python 3.8.11 64-bit ('kodeiri': venv)",
   "language": "python",
   "name": "python3"
  },
  "language_info": {
   "codemirror_mode": {
    "name": "ipython",
    "version": 3
   },
   "file_extension": ".py",
   "mimetype": "text/x-python",
   "name": "python",
   "nbconvert_exporter": "python",
   "pygments_lexer": "ipython3",
   "version": "3.8.11"
  },
  "orig_nbformat": 4
 },
 "nbformat": 4,
 "nbformat_minor": 2
}
